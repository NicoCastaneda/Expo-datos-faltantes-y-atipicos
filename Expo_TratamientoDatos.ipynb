{
 "cells": [
  {
   "cell_type": "markdown",
   "id": "47c9a8f1-3779-4dcc-9f14-5e36086c81ab",
   "metadata": {},
   "source": [
    "# Tratamiento de Datos Atípicos y Faltantes en Análisis de Datos\n",
    "\n",
    "## 1. Introducción\n",
    "\n",
    "En la era del *big data*, la calidad de los datos se ha convertido en una de las cosas más importantes para construir modelos analíticos confiables. **Datos atípicos (outliers)** y **valores faltantes** representan dos de los desafíos más comunes que comprometen la integridad de los análisis, pudiendo distorsionar:\n",
    "- Estimaciones estadísticas\n",
    "- Patrones en modelos de machine learning\n",
    "- Conclusiones en investigación científica\n",
    "\n",
    "Estudios del [Instituto Nacional de Estándares y Tecnología (NIST)](https://www.nist.gov/) revelan que el **62% de los errores en modelos predictivos** se originan en problemas de calidad de datos no tratados. Además, regulaciones como el **GDPR (Artículo 5)** y estándares como **ISO 8000** exigen protocolos documentados para el manejo de datos incompletos o anómalos.\n",
    "\n",
    "**Objetivos de esta investigación**:\n",
    "1. Clasificar tipos de datos atípicos y faltantes\n",
    "2. Evaluar métodos de detección y tratamiento\n",
    "3. Proporcionar implementaciones prácticas en Python\n",
    "4. Establecer recomendaciones basadas en evidencia\n",
    "\n",
    "## 2. Marco Teórico\n",
    "\n",
    "### 2.1 Datos Atípicos (Outliers)\n",
    "\n",
    "**Definición**: Observaciones que se desvían significativamente del resto de la distribución (Hawkins, 1980).\n",
    "**Clasificación**:\n",
    "- **Univariados**: Anomalías en una sola dimensión. Es decir, valores extremos en una variable.\n",
    "- **Multivariados**: Combinaciones inusuales entre variables. Por ejemplo, un alto ingreso con baja edad.\n",
    "\n",
    "**Algunas de las Causas**:\n",
    "- Errores de medición (sensores defectuosos)\n",
    "- Entradas legítimas pero extremas (transacciones fraudulentas)\n",
    "- Errores de procesamiento (decimales mal ubicados)\n",
    "\n",
    "**Métodos de Detección**:\n",
    "| Método         | Técnica                          | Ventajas                                                                 | Desventajas                                                                 | Casos de Uso Recomendados                                                                 |\n",
    "|----------------|----------------------------------|--------------------------------------------------------------------------|-----------------------------------------------------------------------------|------------------------------------------------------------------------------------------|\n",
    "| **Estadístico**| Z-score                         | - Fácil de implementar<br>- Rápido para datos unimodales                 | - Asume distribución normal<br>- No funciona bien con datos multimodales    | Datos con distribución cercana a la normal (ej: alturas, pesos)                          |\n",
    "|                | IQR (Rango Intercuartílico)     | - Robustez a outliers<br>- No depende de la distribución                 | - Solo detecta outliers univariados<br>- Menos sensible en datos dispersos  | Datos con colas pesadas o asimetría (ej: ingresos, tiempos de espera)                    |\n",
    "| **Visual**     | Boxplots                       | - Identificación intuitiva<br>- Útil para comparar distribuciones        | - Limitado a una o dos variables<br>- Subjetivo en la interpretación        | Análisis exploratorio inicial (ej: comparar distribuciones entre grupos)                 |\n",
    "|                | Gráficos de dispersión (Scatter)| - Detecta outliers multivariados<br>- Visualiza relaciones entre variables| - Difícil de interpretar con muchas variables<br>- Requiere datos limpios   | Detección de relaciones no lineales o agrupaciones (ej: análisis de clusters)            |\n",
    "| **Automático** | Isolation Forest               | - Efectivo en alta dimensión<br>- No requiere suposiciones de distribución| - Computacionalmente costoso<br>- Sensible a la elección de hiperparámetros | Detección de outliers en datasets grandes y complejos (ej: fraudes, fallos de equipos)   |\n",
    "|                | DBSCAN                         | - Detecta outliers y clusters<br>- Robustez a la forma de los clusters   | - Sensible a la elección de parámetros (eps, min_samples)<br>- Lento en grandes datasets | Datos con agrupaciones naturales (ej: segmentación de clientes, detección de anomalías)  |\n",
    "| **Híbrido**    | LOF (Local Outlier Factor)      | - Detecta outliers locales<br>- Útil en datos con densidad variable      | - Computacionalmente intensivo<br>- Difícil de interpretar en alta dimensión| Datos con patrones de densidad irregular (ej: detección de intrusos en redes)            |\n",
    "|                | One-Class SVM                  | - Efectivo para datos no lineales<br>- Útil cuando solo se tienen datos \"normales\" | - Requiere ajuste de hiperparámetros<br>- Lento en grandes datasets         | Detección de anomalías en sistemas de monitoreo (ej: fallos en máquinas, fraudes)        |\n",
    "\n",
    "**Técnicas de Tratamiento**:\n",
    "- **Eliminación**:\n",
    "Solo para errores comprobados, consiste en eliminar la observación. No es recomendable debido a la pérdida de información.\n",
    "Ejemplo: Eliminar valores negativos en una variable de edad.\n",
    "\n",
    "- **Transformación**:\n",
    "Aplicar funciones matemáticas (log, raíz cuadrada, etc.) para reducir el impacto de los outliers sin eliminarlos. Útil para datos con colas pesadas o asimetría.\n",
    "Ejemplo: Aplicar logaritmo a una variable de ingresos para reducir el efecto de valores extremos.\n",
    "\n",
    "- **Discretización**:\n",
    "Convertir valores continuos en intervalos o categorías. Reduce el efecto de outliers, pero puede causar pérdida de precisión.\n",
    "Ejemplo: Agrupar edades en rangos como \"18-25\", \"26-35\", etc.\n",
    "\n",
    "- **Winsorizing**:\n",
    "Reemplazar los valores extremos con los percentiles especificados (ej: 5% y 95%). Conserva la forma de la distribución sin eliminar datos.\n",
    "Ejemplo: Limitar los valores de una variable de precios al percentil 95%.\n",
    "\n",
    "- **Modelos Robustos**:\n",
    "Usar algoritmos menos sensibles a outliers, como Regresión Huber o Random Forests. No requiere modificar los datos, pero puede ser más costoso computacionalmente.\n",
    "Ejemplo: Usar Random Forests para predecir valores en un dataset con muchos outliers.\n",
    "\n",
    "### 2.2 Datos Faltantes\n",
    "\n",
    "Los datos faltantes son un problema común en conjuntos de datos reales y pueden afectar significativamente los resultados de los análisis. Según Rubin (1976), los datos faltantes se clasifican en tres categorías principales:\n",
    "\n",
    "1. **MCAR** (Missing Completely at Random): La probabilidad de que un valor falte es independiente de los datos observados y no observados.\n",
    "Ejemplo: Un sensor que falla aleatoriamente sin relación con las condiciones del entorno.\n",
    "2. **MAR** (Missing at Random): La probabilidad de que un valor falte depende de los datos observados.\n",
    "Ejemplo: En una encuesta de ingresos, es más probable que las personas con ingresos altos no respondan, pero esto depende de otras variables observadas (como la edad o el nivel educativo).  \n",
    "3. **MNAR** (Missing Not at Random): La probabilidad de que un valor falte depende de los datos no observados.  \n",
    "Ejemplo: En un estudio médico, los pacientes con síntomas graves pueden ser menos propensos a reportar su condición.\n",
    "\n",
    "**Patrones**:\n",
    "- Monotónico: Los datos faltantes siguen un patrón secuencial (ej: una encuesta abandonada después de cierta pregunta)\n",
    "- Arbitrario: Los datos faltantes no siguen un patrón claro (ej: fallos aleatorios en sensores).\n",
    "- Bloque: Un conjunto completo de variables falta para ciertas observaciones (ej: falta de registros en un período específico).\n",
    "\n",
    "#### Métodos de Manejo de Datos Faltantes\n",
    "##### 1. Eliminación\n",
    "- **Listwise Deletion**: Eliminar todas las observaciones con valores faltantes.\n",
    "  **Ventaja**: Simple de implementar.\n",
    "  **Desventaja**: Pérdida significativa de información si hay muchos datos faltantes.\n",
    "- **Pairwise Deletion**: Usar solo los datos disponibles para cada cálculo.  \n",
    "  **Ventaja**: Maximiza el uso de los datos.  \n",
    "  **Desventaja**: Puede introducir sesgos en los análisis.\n",
    "\n",
    "##### 2. Imputación Simple\n",
    "- **Media/Mediana/Moda**: Reemplazar los valores faltantes con la media, mediana o moda de la variable.  \n",
    "  **Ventaja**: Fácil de implementar.  \n",
    "  **Desventaja**: Subestima la varianza y distorsiona la distribución.\n",
    "- **Valor Constante**: Reemplazar con un valor fijo (ej: 0 o \"Desconocido\").  \n",
    "  **Ventaja**: Útil para variables categóricas.  \n",
    "  **Desventaja**: Puede introducir sesgos.\n",
    "\n",
    "##### 3. Imputación Avanzada\n",
    "- **MICE (Multiple Imputation by Chained Equations)**:  \n",
    "  Un método iterativo que usa regresiones para imputar valores faltantes.  \n",
    "  **Ventaja**: Captura la incertidumbre de la imputación.  \n",
    "  **Desventaja**: Computacionalmente costoso.\n",
    "  ```python\n",
    "  from sklearn.experimental import enable_iterative_imputer\n",
    "  from sklearn.impute import IterativeImputer\n",
    "  imputer = IterativeImputer(max_iter=10, random_state=0)\n",
    "  data_imputed = imputer.fit_transform(data)"
   ]
  },
  {
   "cell_type": "markdown",
   "id": "42d8a106",
   "metadata": {},
   "source": [
    "## 3. Aplicación Práctica"
   ]
  },
  {
   "cell_type": "markdown",
   "id": "ee7fffdf",
   "metadata": {},
   "source": [
    "Importamos las librerías necesarias."
   ]
  },
  {
   "cell_type": "code",
   "execution_count": 14,
   "id": "8db50fde",
   "metadata": {},
   "outputs": [],
   "source": [
    "import numpy as np\n",
    "import pandas as pd\n",
    "import seaborn as sns\n",
    "import matplotlib.pyplot as plt\n",
    "from scipy.stats.mstats import winsorize\n",
    "from sklearn.impute import IterativeImputer\n",
    "from sklearn.datasets import fetch_openml\n",
    "from sklearn.ensemble import IsolationForest\n",
    "import missingno as msno"
   ]
  },
  {
   "cell_type": "markdown",
   "id": "c02e3917",
   "metadata": {},
   "source": [
    "### 3.1 Detección y Tratamiento de Outliers"
   ]
  },
  {
   "cell_type": "markdown",
   "id": "c932e75e",
   "metadata": {},
   "source": [
    "#### Descripción de las columnas del conjunto de datos 'mpg'\n",
    "\n",
    "El conjunto de datos `'mpg'` contiene información sobre diferentes modelos de automóviles, incluyendo detalles sobre su rendimiento y características técnicas. Las columnas son las siguientes:\n",
    "\n",
    "1. **mpg**: Millas por galón (millas recorridas por cada galón de combustible).\n",
    "\n",
    "2. **cylinders**: Número de cilindros del motor del vehículo.\n",
    "\n",
    "3. **displacement**: Desplazamiento del motor (en pulgadas cúbicas).\n",
    "\n",
    "4. **horsepower**: Potencia del motor medida en caballos de fuerza.\n",
    "\n",
    "5. **weight**: Peso del automóvil (en libras).\n",
    "\n",
    "6. **acceleration**: Aceleración del vehículo (en metros por segundo cuadrado).\n",
    "\n",
    "7. **model_year**: Año del modelo del automóvil.\n",
    "\n",
    "8. **origin**: Región de origen del vehículo (1 = USA, 2 = Europa, 3 = Japón).\n",
    "\n",
    "9. **name**: Nombre del automóvil."
   ]
  },
  {
   "cell_type": "code",
   "execution_count": 3,
   "id": "5a9ccf57",
   "metadata": {},
   "outputs": [
    {
     "data": {
      "text/html": [
       "<div>\n",
       "<style scoped>\n",
       "    .dataframe tbody tr th:only-of-type {\n",
       "        vertical-align: middle;\n",
       "    }\n",
       "\n",
       "    .dataframe tbody tr th {\n",
       "        vertical-align: top;\n",
       "    }\n",
       "\n",
       "    .dataframe thead th {\n",
       "        text-align: right;\n",
       "    }\n",
       "</style>\n",
       "<table border=\"1\" class=\"dataframe\">\n",
       "  <thead>\n",
       "    <tr style=\"text-align: right;\">\n",
       "      <th></th>\n",
       "      <th>mpg</th>\n",
       "      <th>cylinders</th>\n",
       "      <th>displacement</th>\n",
       "      <th>horsepower</th>\n",
       "      <th>weight</th>\n",
       "      <th>acceleration</th>\n",
       "      <th>model_year</th>\n",
       "      <th>origin</th>\n",
       "      <th>name</th>\n",
       "    </tr>\n",
       "  </thead>\n",
       "  <tbody>\n",
       "    <tr>\n",
       "      <th>0</th>\n",
       "      <td>18.0</td>\n",
       "      <td>8</td>\n",
       "      <td>307.0</td>\n",
       "      <td>130.0</td>\n",
       "      <td>3504</td>\n",
       "      <td>12.0</td>\n",
       "      <td>70</td>\n",
       "      <td>usa</td>\n",
       "      <td>chevrolet chevelle malibu</td>\n",
       "    </tr>\n",
       "    <tr>\n",
       "      <th>1</th>\n",
       "      <td>15.0</td>\n",
       "      <td>8</td>\n",
       "      <td>350.0</td>\n",
       "      <td>165.0</td>\n",
       "      <td>3693</td>\n",
       "      <td>11.5</td>\n",
       "      <td>70</td>\n",
       "      <td>usa</td>\n",
       "      <td>buick skylark 320</td>\n",
       "    </tr>\n",
       "    <tr>\n",
       "      <th>2</th>\n",
       "      <td>18.0</td>\n",
       "      <td>8</td>\n",
       "      <td>318.0</td>\n",
       "      <td>150.0</td>\n",
       "      <td>3436</td>\n",
       "      <td>11.0</td>\n",
       "      <td>70</td>\n",
       "      <td>usa</td>\n",
       "      <td>plymouth satellite</td>\n",
       "    </tr>\n",
       "    <tr>\n",
       "      <th>3</th>\n",
       "      <td>16.0</td>\n",
       "      <td>8</td>\n",
       "      <td>304.0</td>\n",
       "      <td>150.0</td>\n",
       "      <td>3433</td>\n",
       "      <td>12.0</td>\n",
       "      <td>70</td>\n",
       "      <td>usa</td>\n",
       "      <td>amc rebel sst</td>\n",
       "    </tr>\n",
       "    <tr>\n",
       "      <th>4</th>\n",
       "      <td>17.0</td>\n",
       "      <td>8</td>\n",
       "      <td>302.0</td>\n",
       "      <td>140.0</td>\n",
       "      <td>3449</td>\n",
       "      <td>10.5</td>\n",
       "      <td>70</td>\n",
       "      <td>usa</td>\n",
       "      <td>ford torino</td>\n",
       "    </tr>\n",
       "  </tbody>\n",
       "</table>\n",
       "</div>"
      ],
      "text/plain": [
       "    mpg  cylinders  displacement  horsepower  weight  acceleration  \\\n",
       "0  18.0          8         307.0       130.0    3504          12.0   \n",
       "1  15.0          8         350.0       165.0    3693          11.5   \n",
       "2  18.0          8         318.0       150.0    3436          11.0   \n",
       "3  16.0          8         304.0       150.0    3433          12.0   \n",
       "4  17.0          8         302.0       140.0    3449          10.5   \n",
       "\n",
       "   model_year origin                       name  \n",
       "0          70    usa  chevrolet chevelle malibu  \n",
       "1          70    usa          buick skylark 320  \n",
       "2          70    usa         plymouth satellite  \n",
       "3          70    usa              amc rebel sst  \n",
       "4          70    usa                ford torino  "
      ]
     },
     "execution_count": 3,
     "metadata": {},
     "output_type": "execute_result"
    }
   ],
   "source": [
    "data = sns.load_dataset('mpg').dropna()\n",
    "data.head()"
   ]
  },
  {
   "cell_type": "markdown",
   "id": "c82094dd",
   "metadata": {},
   "source": [
    "#### Detección de Outliers:"
   ]
  },
  {
   "cell_type": "markdown",
   "id": "201de7c6",
   "metadata": {},
   "source": [
    "- **Visual: A través de BoxPlot**"
   ]
  },
  {
   "cell_type": "code",
   "execution_count": 4,
   "id": "d3ea9a6a",
   "metadata": {},
   "outputs": [
    {
     "data": {
      "image/png": "[encoded data removed]",
      "text/plain": [
       "<Figure size 800x400 with 1 Axes>"
      ]
     },
     "metadata": {},
     "output_type": "display_data"
    }
   ],
   "source": [
    "plt.figure(figsize=(8, 4))\n",
    "sns.boxplot(x=data['horsepower'])\n",
    "plt.title(\"Distribución de Horsepower - Outliers visibles\")\n",
    "plt.show()"
   ]
  },
  {
   "cell_type": "markdown",
   "id": "d6bfb2c1",
   "metadata": {},
   "source": [
    "- **Algoritmos Automáticos: Isolation Forest**\n",
    "\n",
    "    El código usa el algoritmo Isolation Forest para detectar valores atípicos en la columna `'horsepower'`. Con una tasa de contaminación del 5%, el modelo identifica los datos atípicos, los marca con -1 en una nueva columna llamada `'anomaly'`, y luego imprime el número de valores atípicos detectados."
   ]
  },
  {
   "cell_type": "code",
   "execution_count": 5,
   "id": "304cc214",
   "metadata": {},
   "outputs": [
    {
     "name": "stdout",
     "output_type": "stream",
     "text": [
      "Outliers detectados con Isolation Forest: 20\n"
     ]
    }
   ],
   "source": [
    "iso_forest = IsolationForest(contamination=0.05, random_state=42)\n",
    "data['anomaly'] = iso_forest.fit_predict(data[['horsepower']])\n",
    "outliers_iso = data[data['anomaly'] == -1]\n",
    "print(f\"Outliers detectados con Isolation Forest: {len(outliers_iso)}\")"
   ]
  },
  {
   "cell_type": "markdown",
   "id": "3c48800b",
   "metadata": {},
   "source": [
    "#### Tratamiento de Outliers:"
   ]
  },
  {
   "cell_type": "markdown",
   "id": "29ebd310",
   "metadata": {},
   "source": [
    "- **Transformación con Winsorizing**\n",
    "\n",
    "    En este fragmento de código se aplica una transformación de Winsorizing a la columna `'horsepower'` para manejar los datos atípicos.\n",
    "\n",
    "    El método `winsorize` limita los valores en los extremos (los percentiles inferiores y superiores) para reducir la influencia de los valores atípicos. En este caso, se establece un límite del 5% en ambos extremos, lo que significa que los valores fuera del 5% inferior y superior serán reemplazados por los valores más cercanos dentro de ese rango.\n",
    "\n",
    "    Después de aplicar esta transformación, se crea un DataFrame que compara los datos originales con los datos transformados y se muestran las estadísticas descriptivas de ambas columnas."
   ]
  },
  {
   "cell_type": "code",
   "execution_count": 6,
   "id": "c1b86adc",
   "metadata": {},
   "outputs": [
    {
     "data": {
      "text/html": [
       "<div>\n",
       "<style scoped>\n",
       "    .dataframe tbody tr th:only-of-type {\n",
       "        vertical-align: middle;\n",
       "    }\n",
       "\n",
       "    .dataframe tbody tr th {\n",
       "        vertical-align: top;\n",
       "    }\n",
       "\n",
       "    .dataframe thead th {\n",
       "        text-align: right;\n",
       "    }\n",
       "</style>\n",
       "<table border=\"1\" class=\"dataframe\">\n",
       "  <thead>\n",
       "    <tr style=\"text-align: right;\">\n",
       "      <th></th>\n",
       "      <th>Original</th>\n",
       "      <th>Winsorized</th>\n",
       "    </tr>\n",
       "  </thead>\n",
       "  <tbody>\n",
       "    <tr>\n",
       "      <th>count</th>\n",
       "      <td>392.000000</td>\n",
       "      <td>392.000000</td>\n",
       "    </tr>\n",
       "    <tr>\n",
       "      <th>mean</th>\n",
       "      <td>104.469388</td>\n",
       "      <td>103.561224</td>\n",
       "    </tr>\n",
       "    <tr>\n",
       "      <th>std</th>\n",
       "      <td>38.491160</td>\n",
       "      <td>34.867617</td>\n",
       "    </tr>\n",
       "    <tr>\n",
       "      <th>min</th>\n",
       "      <td>46.000000</td>\n",
       "      <td>60.000000</td>\n",
       "    </tr>\n",
       "    <tr>\n",
       "      <th>25%</th>\n",
       "      <td>75.000000</td>\n",
       "      <td>75.000000</td>\n",
       "    </tr>\n",
       "    <tr>\n",
       "      <th>50%</th>\n",
       "      <td>93.500000</td>\n",
       "      <td>93.500000</td>\n",
       "    </tr>\n",
       "    <tr>\n",
       "      <th>75%</th>\n",
       "      <td>126.000000</td>\n",
       "      <td>126.000000</td>\n",
       "    </tr>\n",
       "    <tr>\n",
       "      <th>max</th>\n",
       "      <td>230.000000</td>\n",
       "      <td>180.000000</td>\n",
       "    </tr>\n",
       "  </tbody>\n",
       "</table>\n",
       "</div>"
      ],
      "text/plain": [
       "         Original  Winsorized\n",
       "count  392.000000  392.000000\n",
       "mean   104.469388  103.561224\n",
       "std     38.491160   34.867617\n",
       "min     46.000000   60.000000\n",
       "25%     75.000000   75.000000\n",
       "50%     93.500000   93.500000\n",
       "75%    126.000000  126.000000\n",
       "max    230.000000  180.000000"
      ]
     },
     "execution_count": 6,
     "metadata": {},
     "output_type": "execute_result"
    }
   ],
   "source": [
    "winsorized_data = winsorize(data['horsepower'], limits=[0.05, 0.05])\n",
    "pd.DataFrame({'Original': data['horsepower'], 'Winsorized': winsorized_data}).describe()"
   ]
  },
  {
   "cell_type": "markdown",
   "id": "cc0371ba",
   "metadata": {},
   "source": [
    "Podemos ver que varios datos estadísticos han cambiado de manera significativa, despues de haber manejado los datos atípicos. Lo que indica que el tratamiento de estos datos ha tenido un impacto en la dsitribución de los datos, lo que puede mejorar la precisión de los análisis que se pueden realizar a futuro"
   ]
  },
  {
   "cell_type": "markdown",
   "id": "f2cbd05b",
   "metadata": {},
   "source": [
    "### 3.1 Detección y Manejo de datos incompletos"
   ]
  },
  {
   "cell_type": "markdown",
   "id": "532b396f",
   "metadata": {},
   "source": [
    "#### Descripción del conjunto de datos Titanic\n",
    "\n",
    "Este dataset contiene información sobre los pasajeros del Titanic y si sobrevivieron o no al desastre. Las columnas son las siguientes:\n",
    "\n",
    "1. **pclass**: Clase del pasajero (1 = Primera clase, 2 = Segunda clase, 3 = Tercera clase).\n",
    "\n",
    "2. **sex**: Sexo del pasajero (masculino o femenino).\n",
    "\n",
    "2. **nombre**: Nombre del pasajero (Nombre y Apellido).\n",
    "\n",
    "3. **Age**: Edad del pasajero en años.\n",
    "\n",
    "4. **sibsp**: Número de hermanos o cónyuges a bordo del Titanic.\n",
    "\n",
    "5. **parch**: Número de padres o hijos a bordo del Titanic.\n",
    "\n",
    "6. **fare**: Tarifa pagada por el pasajero para su boleto.\n",
    "\n",
    "7. **embarked**: Puerto de embarque (C = Cherburgo, Q = Queenstown, S = Southampton).\n",
    "\n",
    "8. **ticket**: Número de boleto del pasajero.\n",
    "\n",
    "9. **cabin**: Número de cabina del pasajero (puede tener valores nulos).\n",
    "\n",
    "10. **boat**: Número de bote salvavidas en el que viajaba el pasajero (puede tener valores nulos).\n",
    "\n",
    "11. **body**: Número de cuerpo recuperado (si se encontró, de lo contrario nulo).\n",
    "\n",
    "12. **home.dest**: Destino o lugar de residencia del pasajero.\n"
   ]
  },
  {
   "cell_type": "code",
   "execution_count": 8,
   "id": "bd8dcbbe",
   "metadata": {},
   "outputs": [
    {
     "data": {
      "text/html": [
       "<div>\n",
       "<style scoped>\n",
       "    .dataframe tbody tr th:only-of-type {\n",
       "        vertical-align: middle;\n",
       "    }\n",
       "\n",
       "    .dataframe tbody tr th {\n",
       "        vertical-align: top;\n",
       "    }\n",
       "\n",
       "    .dataframe thead th {\n",
       "        text-align: right;\n",
       "    }\n",
       "</style>\n",
       "<table border=\"1\" class=\"dataframe\">\n",
       "  <thead>\n",
       "    <tr style=\"text-align: right;\">\n",
       "      <th></th>\n",
       "      <th>pclass</th>\n",
       "      <th>name</th>\n",
       "      <th>sex</th>\n",
       "      <th>age</th>\n",
       "      <th>sibsp</th>\n",
       "      <th>parch</th>\n",
       "      <th>ticket</th>\n",
       "      <th>fare</th>\n",
       "      <th>cabin</th>\n",
       "      <th>embarked</th>\n",
       "      <th>boat</th>\n",
       "      <th>body</th>\n",
       "      <th>home.dest</th>\n",
       "    </tr>\n",
       "  </thead>\n",
       "  <tbody>\n",
       "    <tr>\n",
       "      <th>0</th>\n",
       "      <td>1</td>\n",
       "      <td>Allen, Miss. Elisabeth Walton</td>\n",
       "      <td>female</td>\n",
       "      <td>29.0000</td>\n",
       "      <td>0</td>\n",
       "      <td>0</td>\n",
       "      <td>24160</td>\n",
       "      <td>211.3375</td>\n",
       "      <td>B5</td>\n",
       "      <td>S</td>\n",
       "      <td>2</td>\n",
       "      <td>NaN</td>\n",
       "      <td>St Louis, MO</td>\n",
       "    </tr>\n",
       "    <tr>\n",
       "      <th>1</th>\n",
       "      <td>1</td>\n",
       "      <td>Allison, Master. Hudson Trevor</td>\n",
       "      <td>male</td>\n",
       "      <td>0.9167</td>\n",
       "      <td>1</td>\n",
       "      <td>2</td>\n",
       "      <td>113781</td>\n",
       "      <td>151.5500</td>\n",
       "      <td>C22 C26</td>\n",
       "      <td>S</td>\n",
       "      <td>11</td>\n",
       "      <td>NaN</td>\n",
       "      <td>Montreal, PQ / Chesterville, ON</td>\n",
       "    </tr>\n",
       "    <tr>\n",
       "      <th>2</th>\n",
       "      <td>1</td>\n",
       "      <td>Allison, Miss. Helen Loraine</td>\n",
       "      <td>female</td>\n",
       "      <td>2.0000</td>\n",
       "      <td>1</td>\n",
       "      <td>2</td>\n",
       "      <td>113781</td>\n",
       "      <td>151.5500</td>\n",
       "      <td>C22 C26</td>\n",
       "      <td>S</td>\n",
       "      <td>NaN</td>\n",
       "      <td>NaN</td>\n",
       "      <td>Montreal, PQ / Chesterville, ON</td>\n",
       "    </tr>\n",
       "    <tr>\n",
       "      <th>3</th>\n",
       "      <td>1</td>\n",
       "      <td>Allison, Mr. Hudson Joshua Creighton</td>\n",
       "      <td>male</td>\n",
       "      <td>30.0000</td>\n",
       "      <td>1</td>\n",
       "      <td>2</td>\n",
       "      <td>113781</td>\n",
       "      <td>151.5500</td>\n",
       "      <td>C22 C26</td>\n",
       "      <td>S</td>\n",
       "      <td>NaN</td>\n",
       "      <td>135.0</td>\n",
       "      <td>Montreal, PQ / Chesterville, ON</td>\n",
       "    </tr>\n",
       "    <tr>\n",
       "      <th>4</th>\n",
       "      <td>1</td>\n",
       "      <td>Allison, Mrs. Hudson J C (Bessie Waldo Daniels)</td>\n",
       "      <td>female</td>\n",
       "      <td>25.0000</td>\n",
       "      <td>1</td>\n",
       "      <td>2</td>\n",
       "      <td>113781</td>\n",
       "      <td>151.5500</td>\n",
       "      <td>C22 C26</td>\n",
       "      <td>S</td>\n",
       "      <td>NaN</td>\n",
       "      <td>NaN</td>\n",
       "      <td>Montreal, PQ / Chesterville, ON</td>\n",
       "    </tr>\n",
       "  </tbody>\n",
       "</table>\n",
       "</div>"
      ],
      "text/plain": [
       "   pclass                                             name     sex      age  \\\n",
       "0       1                    Allen, Miss. Elisabeth Walton  female  29.0000   \n",
       "1       1                   Allison, Master. Hudson Trevor    male   0.9167   \n",
       "2       1                     Allison, Miss. Helen Loraine  female   2.0000   \n",
       "3       1             Allison, Mr. Hudson Joshua Creighton    male  30.0000   \n",
       "4       1  Allison, Mrs. Hudson J C (Bessie Waldo Daniels)  female  25.0000   \n",
       "\n",
       "   sibsp  parch  ticket      fare    cabin embarked boat   body  \\\n",
       "0      0      0   24160  211.3375       B5        S    2    NaN   \n",
       "1      1      2  113781  151.5500  C22 C26        S   11    NaN   \n",
       "2      1      2  113781  151.5500  C22 C26        S  NaN    NaN   \n",
       "3      1      2  113781  151.5500  C22 C26        S  NaN  135.0   \n",
       "4      1      2  113781  151.5500  C22 C26        S  NaN    NaN   \n",
       "\n",
       "                         home.dest  \n",
       "0                     St Louis, MO  \n",
       "1  Montreal, PQ / Chesterville, ON  \n",
       "2  Montreal, PQ / Chesterville, ON  \n",
       "3  Montreal, PQ / Chesterville, ON  \n",
       "4  Montreal, PQ / Chesterville, ON  "
      ]
     },
     "execution_count": 8,
     "metadata": {},
     "output_type": "execute_result"
    }
   ],
   "source": [
    "titanic_df = fetch_openml('titanic', version=1, as_frame=True)['data']\n",
    "titanic_df.head()"
   ]
  },
  {
   "cell_type": "markdown",
   "id": "418d5421",
   "metadata": {},
   "source": [
    "#### Determinar datos faltantes\n",
    "\n",
    "Vamos a determinar cuantos datos faltantes hay en nuestra base de datos. Para este fin primero vamos a usar un **gráfico de matriz de valores nulos** de la libreria  ```missingno```, que muestra la distribución de datos faltantes en el conjunto de datos. En este gráfico, los espacios en blanco indican datos faltantes, esto en cada columna de la base de datos."
   ]
  },
  {
   "cell_type": "code",
   "execution_count": 9,
   "id": "72cf5c07",
   "metadata": {},
   "outputs": [
    {
     "data": {
      "text/plain": [
       "<Axes: >"
      ]
     },
     "execution_count": 9,
     "metadata": {},
     "output_type": "execute_result"
    },
    {
     "data": {
      "image/png": "[encoded data removed]",
      "text/plain": [
       "<Figure size 2500x1000 with 2 Axes>"
      ]
     },
     "metadata": {},
     "output_type": "display_data"
    }
   ],
   "source": [
    "msno.matrix(titanic_df)"
   ]
  },
  {
   "cell_type": "markdown",
   "id": "5487ce7b",
   "metadata": {},
   "source": [
    "Como se puede observar en el gráfico, la base de datos tiene datos faltantes en varias columnas. Ahora, para comprender mejor estos datos faltantes, en el siguiente bloque de código determinamos cuántos datos faltantes hay en cada columna."
   ]
  },
  {
   "cell_type": "code",
   "execution_count": 10,
   "id": "139eca54",
   "metadata": {},
   "outputs": [
    {
     "data": {
      "text/plain": [
       "pclass          0\n",
       "name            0\n",
       "sex             0\n",
       "age           263\n",
       "sibsp           0\n",
       "parch           0\n",
       "ticket          0\n",
       "fare            1\n",
       "cabin        1014\n",
       "embarked        2\n",
       "boat          823\n",
       "body         1188\n",
       "home.dest     564\n",
       "dtype: int64"
      ]
     },
     "execution_count": 10,
     "metadata": {},
     "output_type": "execute_result"
    }
   ],
   "source": [
    "titanic_df.isna().sum()"
   ]
  },
  {
   "cell_type": "markdown",
   "id": "5f264184",
   "metadata": {},
   "source": [
    "#### Manejo de datos incompletos:"
   ]
  },
  {
   "cell_type": "markdown",
   "id": "ed9c2a6c",
   "metadata": {},
   "source": [
    "Esto es un problema porque los datos faltantes pueden afectar la calidad del análisis y la precisión de los modelos, por lo que es necesario tratarlos adecuadamente para evitar sesgos o errores en los resultados."
   ]
  },
  {
   "cell_type": "markdown",
   "id": "2ec22085",
   "metadata": {},
   "source": [
    "####  Imputación con MICE (Iterative Imputer)\n",
    "\n",
    "El código utiliza el **IterativeImputer** para manejar los datos faltantes en las columnas numéricas del conjunto de datos Titanic. Primero, selecciona las columnas numéricas, luego estima los valores faltantes basándose en las demás columnas, repitiendo este proceso hasta 10 veces. Esto permite obtener un conjunto de datos completo, mejorando así la calidad del análisis y evitando que los valores faltantes afecten los resultados."
   ]
  },
  {
   "cell_type": "code",
   "execution_count": 11,
   "id": "d492c1cb",
   "metadata": {},
   "outputs": [
    {
     "data": {
      "text/html": [
       "<div>\n",
       "<style scoped>\n",
       "    .dataframe tbody tr th:only-of-type {\n",
       "        vertical-align: middle;\n",
       "    }\n",
       "\n",
       "    .dataframe tbody tr th {\n",
       "        vertical-align: top;\n",
       "    }\n",
       "\n",
       "    .dataframe thead th {\n",
       "        text-align: right;\n",
       "    }\n",
       "</style>\n",
       "<table border=\"1\" class=\"dataframe\">\n",
       "  <thead>\n",
       "    <tr style=\"text-align: right;\">\n",
       "      <th></th>\n",
       "      <th>pclass</th>\n",
       "      <th>age</th>\n",
       "      <th>sibsp</th>\n",
       "      <th>parch</th>\n",
       "      <th>fare</th>\n",
       "      <th>body</th>\n",
       "    </tr>\n",
       "  </thead>\n",
       "  <tbody>\n",
       "    <tr>\n",
       "      <th>0</th>\n",
       "      <td>1.0</td>\n",
       "      <td>29.0000</td>\n",
       "      <td>0.0</td>\n",
       "      <td>0.0</td>\n",
       "      <td>211.3375</td>\n",
       "      <td>160.644389</td>\n",
       "    </tr>\n",
       "    <tr>\n",
       "      <th>1</th>\n",
       "      <td>1.0</td>\n",
       "      <td>0.9167</td>\n",
       "      <td>1.0</td>\n",
       "      <td>2.0</td>\n",
       "      <td>151.5500</td>\n",
       "      <td>160.688450</td>\n",
       "    </tr>\n",
       "    <tr>\n",
       "      <th>2</th>\n",
       "      <td>1.0</td>\n",
       "      <td>2.0000</td>\n",
       "      <td>1.0</td>\n",
       "      <td>2.0</td>\n",
       "      <td>151.5500</td>\n",
       "      <td>160.688842</td>\n",
       "    </tr>\n",
       "    <tr>\n",
       "      <th>3</th>\n",
       "      <td>1.0</td>\n",
       "      <td>30.0000</td>\n",
       "      <td>1.0</td>\n",
       "      <td>2.0</td>\n",
       "      <td>151.5500</td>\n",
       "      <td>135.000000</td>\n",
       "    </tr>\n",
       "    <tr>\n",
       "      <th>4</th>\n",
       "      <td>1.0</td>\n",
       "      <td>25.0000</td>\n",
       "      <td>1.0</td>\n",
       "      <td>2.0</td>\n",
       "      <td>151.5500</td>\n",
       "      <td>160.697182</td>\n",
       "    </tr>\n",
       "  </tbody>\n",
       "</table>\n",
       "</div>"
      ],
      "text/plain": [
       "   pclass      age  sibsp  parch      fare        body\n",
       "0     1.0  29.0000    0.0    0.0  211.3375  160.644389\n",
       "1     1.0   0.9167    1.0    2.0  151.5500  160.688450\n",
       "2     1.0   2.0000    1.0    2.0  151.5500  160.688842\n",
       "3     1.0  30.0000    1.0    2.0  151.5500  135.000000\n",
       "4     1.0  25.0000    1.0    2.0  151.5500  160.697182"
      ]
     },
     "execution_count": 11,
     "metadata": {},
     "output_type": "execute_result"
    }
   ],
   "source": [
    "imputer = IterativeImputer(max_iter=10, random_state=0)\n",
    "titanic_numeric = titanic_df.select_dtypes(include=[np.number])\n",
    "titanic_imputed = pd.DataFrame(imputer.fit_transform(titanic_numeric), columns=titanic_numeric.columns)\n",
    "titanic_imputed.head()"
   ]
  },
  {
   "cell_type": "code",
   "execution_count": 12,
   "id": "a6290e47",
   "metadata": {},
   "outputs": [
    {
     "data": {
      "text/plain": [
       "<Axes: >"
      ]
     },
     "execution_count": 12,
     "metadata": {},
     "output_type": "execute_result"
    },
    {
     "data": {
      "image/png": "[encoded data removed]",
      "text/plain": [
       "<Figure size 2500x1000 with 2 Axes>"
      ]
     },
     "metadata": {},
     "output_type": "display_data"
    }
   ],
   "source": [
    "msno.matrix(titanic_imputed)"
   ]
  },
  {
   "cell_type": "markdown",
   "id": "932845ad",
   "metadata": {},
   "source": [
    "Transformados los datos con **IterativeImputer**, volvemos a generar el **gráfico de matriz de valores nulos**. El resultado muestra que ya no hay datos faltantes en la nueva base de datos creada, lo que permite realizar análisis con mayor calidad, ya que no existen datos faltantes que puedan afectar los resultados."
   ]
  }
 ],
 "metadata": {
  "kernelspec": {
   "display_name": "base",
   "language": "python",
   "name": "python3"
  },
  "language_info": {
   "codemirror_mode": {
    "name": "ipython",
    "version": 3
   },
   "file_extension": ".py",
   "mimetype": "text/x-python",
   "name": "python",
   "nbconvert_exporter": "python",
   "pygments_lexer": "ipython3",
   "version": "3.12.7"
  }
 },
 "nbformat": 4,
 "nbformat_minor": 5
}
